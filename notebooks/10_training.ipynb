{
 "cells": [
  {
   "cell_type": "code",
   "execution_count": 31,
   "id": "f1d669c2",
   "metadata": {},
   "outputs": [],
   "source": [
    "import os\n",
    "import random\n",
    "import requests\n",
    "import warnings\n",
    "from datetime import datetime\n",
    "\n",
    "import holidays\n",
    "import numpy as np\n",
    "import pandas as pd\n",
    "import seaborn as sns\n",
    "import matplotlib.pyplot as plt\n",
    "\n",
    "# Suppress warnings\n",
    "warnings.filterwarnings('ignore')\n",
    "\n",
    "# Statistical and ML libraries\n",
    "from sklearn.model_selection import train_test_split, TimeSeriesSplit\n",
    "from sklearn.preprocessing import StandardScaler, MinMaxScaler\n",
    "from sklearn.metrics import mean_absolute_error, mean_squared_error, r2_score\n",
    "from sklearn.ensemble import RandomForestRegressor, GradientBoostingRegressor\n",
    "from sklearn.linear_model import LinearRegression\n",
    "from sklearn.feature_selection import VarianceThreshold\n",
    "from sklearn.feature_selection import SelectKBest, f_classif\n",
    "\n",
    "# Time series specific libraries\n",
    "from statsmodels.tsa.seasonal import seasonal_decompose\n",
    "from statsmodels.tsa.stattools import adfuller, acf, pacf\n",
    "from statsmodels.graphics.tsaplots import plot_acf, plot_pacf\n",
    "from statsmodels.tsa.arima.model import ARIMA\n",
    "from statsmodels.tsa.statespace.sarimax import SARIMAX\n",
    "from statsmodels.stats.outliers_influence import variance_inflation_factor\n",
    "from statsmodels.tools.tools import add_constant\n",
    "from scipy import stats \n",
    "\n",
    "# Deep learning libraries\n",
    "from tensorflow.keras.models import Sequential\n",
    "from tensorflow.keras.layers import LSTM, Dense, Dropout\n",
    "from tensorflow.keras.callbacks import EarlyStopping"
   ]
  },
  {
   "cell_type": "code",
   "execution_count": 70,
   "id": "a0c8b2cc",
   "metadata": {},
   "outputs": [],
   "source": [
    "\n",
    "# Define the file paths\n",
    "path1 = r'C:\\Users\\LENOVO\\MachineLearningProhects\\TimeSeriesForecasting_End_To_End\\data\\timeseries_model_data.csv'\n",
    "path2 = r'C:\\Users\\TPWODL\\New folder_Content\\TimeSeriesForecasting_End_To_End\\data\\raw\\timeseries_model_data.csv'\n",
    "\n",
    "# Check which path exists and read CSV\n",
    "if os.path.exists(path1):\n",
    "    new_df = pd.read_csv(path1) \n",
    "elif os.path.exists(path2):\n",
    "    new_df = pd.read_csv(path2)   \n",
    "else:\n",
    "    # Raise a FileNotFoundError if neither path is valid\n",
    "    raise FileNotFoundError(\"❌ No valid data file found in either specified path.\")"
   ]
  },
  {
   "cell_type": "code",
   "execution_count": 71,
   "id": "a98b48a8",
   "metadata": {},
   "outputs": [
    {
     "data": {
      "text/html": [
       "<div>\n",
       "<style scoped>\n",
       "    .dataframe tbody tr th:only-of-type {\n",
       "        vertical-align: middle;\n",
       "    }\n",
       "\n",
       "    .dataframe tbody tr th {\n",
       "        vertical-align: top;\n",
       "    }\n",
       "\n",
       "    .dataframe thead th {\n",
       "        text-align: right;\n",
       "    }\n",
       "</style>\n",
       "<table border=\"1\" class=\"dataframe\">\n",
       "  <thead>\n",
       "    <tr style=\"text-align: right;\">\n",
       "      <th></th>\n",
       "      <th>time</th>\n",
       "      <th>temp_max_C</th>\n",
       "      <th>precip_mm</th>\n",
       "      <th>day_of_week</th>\n",
       "      <th>month</th>\n",
       "      <th>wind_speed_max_m_s</th>\n",
       "      <th>Complaint_Count</th>\n",
       "      <th>year</th>\n",
       "      <th>relative_humidity_2m_mean</th>\n",
       "      <th>weather_label</th>\n",
       "      <th>Complaint_Count_diff1</th>\n",
       "    </tr>\n",
       "  </thead>\n",
       "  <tbody>\n",
       "    <tr>\n",
       "      <th>0</th>\n",
       "      <td>2022-06-10</td>\n",
       "      <td>41.0</td>\n",
       "      <td>0.1</td>\n",
       "      <td>4</td>\n",
       "      <td>6</td>\n",
       "      <td>16.6</td>\n",
       "      <td>10</td>\n",
       "      <td>2022</td>\n",
       "      <td>47</td>\n",
       "      <td>1</td>\n",
       "      <td>NaN</td>\n",
       "    </tr>\n",
       "    <tr>\n",
       "      <th>1</th>\n",
       "      <td>2022-06-11</td>\n",
       "      <td>41.0</td>\n",
       "      <td>0.2</td>\n",
       "      <td>5</td>\n",
       "      <td>6</td>\n",
       "      <td>25.3</td>\n",
       "      <td>12</td>\n",
       "      <td>2022</td>\n",
       "      <td>42</td>\n",
       "      <td>1</td>\n",
       "      <td>2.0</td>\n",
       "    </tr>\n",
       "  </tbody>\n",
       "</table>\n",
       "</div>"
      ],
      "text/plain": [
       "         time  temp_max_C  precip_mm  day_of_week  month  wind_speed_max_m_s  \\\n",
       "0  2022-06-10        41.0        0.1            4      6                16.6   \n",
       "1  2022-06-11        41.0        0.2            5      6                25.3   \n",
       "\n",
       "   Complaint_Count  year  relative_humidity_2m_mean  weather_label  \\\n",
       "0               10  2022                         47              1   \n",
       "1               12  2022                         42              1   \n",
       "\n",
       "   Complaint_Count_diff1  \n",
       "0                    NaN  \n",
       "1                    2.0  "
      ]
     },
     "execution_count": 71,
     "metadata": {},
     "output_type": "execute_result"
    }
   ],
   "source": [
    "new_df.head(2)"
   ]
  },
  {
   "cell_type": "code",
   "execution_count": 72,
   "id": "15ef53fa",
   "metadata": {},
   "outputs": [],
   "source": [
    "df = new_df.drop(columns=['relative_humidity_2m_mean', 'Complaint_Count_diff1'])"
   ]
  },
  {
   "cell_type": "code",
   "execution_count": 73,
   "id": "c1cc907c",
   "metadata": {},
   "outputs": [],
   "source": [
    "df.set_index('time', inplace=True)"
   ]
  },
  {
   "cell_type": "code",
   "execution_count": 74,
   "id": "5883fe96",
   "metadata": {},
   "outputs": [
    {
     "data": {
      "text/html": [
       "<div>\n",
       "<style scoped>\n",
       "    .dataframe tbody tr th:only-of-type {\n",
       "        vertical-align: middle;\n",
       "    }\n",
       "\n",
       "    .dataframe tbody tr th {\n",
       "        vertical-align: top;\n",
       "    }\n",
       "\n",
       "    .dataframe thead th {\n",
       "        text-align: right;\n",
       "    }\n",
       "</style>\n",
       "<table border=\"1\" class=\"dataframe\">\n",
       "  <thead>\n",
       "    <tr style=\"text-align: right;\">\n",
       "      <th></th>\n",
       "      <th>temp_max_C</th>\n",
       "      <th>precip_mm</th>\n",
       "      <th>day_of_week</th>\n",
       "      <th>month</th>\n",
       "      <th>wind_speed_max_m_s</th>\n",
       "      <th>Complaint_Count</th>\n",
       "      <th>year</th>\n",
       "      <th>weather_label</th>\n",
       "    </tr>\n",
       "    <tr>\n",
       "      <th>time</th>\n",
       "      <th></th>\n",
       "      <th></th>\n",
       "      <th></th>\n",
       "      <th></th>\n",
       "      <th></th>\n",
       "      <th></th>\n",
       "      <th></th>\n",
       "      <th></th>\n",
       "    </tr>\n",
       "  </thead>\n",
       "  <tbody>\n",
       "    <tr>\n",
       "      <th>2022-06-10</th>\n",
       "      <td>41.0</td>\n",
       "      <td>0.1</td>\n",
       "      <td>4</td>\n",
       "      <td>6</td>\n",
       "      <td>16.6</td>\n",
       "      <td>10</td>\n",
       "      <td>2022</td>\n",
       "      <td>1</td>\n",
       "    </tr>\n",
       "    <tr>\n",
       "      <th>2022-06-11</th>\n",
       "      <td>41.0</td>\n",
       "      <td>0.2</td>\n",
       "      <td>5</td>\n",
       "      <td>6</td>\n",
       "      <td>25.3</td>\n",
       "      <td>12</td>\n",
       "      <td>2022</td>\n",
       "      <td>1</td>\n",
       "    </tr>\n",
       "  </tbody>\n",
       "</table>\n",
       "</div>"
      ],
      "text/plain": [
       "            temp_max_C  precip_mm  day_of_week  month  wind_speed_max_m_s  \\\n",
       "time                                                                        \n",
       "2022-06-10        41.0        0.1            4      6                16.6   \n",
       "2022-06-11        41.0        0.2            5      6                25.3   \n",
       "\n",
       "            Complaint_Count  year  weather_label  \n",
       "time                                              \n",
       "2022-06-10               10  2022              1  \n",
       "2022-06-11               12  2022              1  "
      ]
     },
     "execution_count": 74,
     "metadata": {},
     "output_type": "execute_result"
    }
   ],
   "source": [
    "df.head(2)"
   ]
  },
  {
   "cell_type": "code",
   "execution_count": 75,
   "id": "4617951d",
   "metadata": {},
   "outputs": [
    {
     "data": {
      "text/plain": [
       "(1183, 8)"
      ]
     },
     "execution_count": 75,
     "metadata": {},
     "output_type": "execute_result"
    }
   ],
   "source": [
    "df.shape"
   ]
  },
  {
   "cell_type": "code",
   "execution_count": 76,
   "id": "8acced26",
   "metadata": {},
   "outputs": [],
   "source": [
    "# Separate features (X) and target (y)\n",
    "X = df.drop(columns=['Complaint_Count'])\n",
    "y = df['Complaint_Count']"
   ]
  },
  {
   "cell_type": "code",
   "execution_count": 78,
   "id": "6b764fb3",
   "metadata": {},
   "outputs": [
    {
     "name": "stdout",
     "output_type": "stream",
     "text": [
      "X_train shape: (946, 7)\n",
      "X_test shape: (237, 7)\n",
      "y_train shape: (946,)\n",
      "y_test shape: (237,)\n"
     ]
    }
   ],
   "source": [
    "# Split data into train and test sets (80-20 split)\n",
    "train_size = int(len(df) * 0.8)\n",
    "y_train, y_test = y[:train_size], y[train_size:]\n",
    "X_train, X_test = X[:train_size], X[train_size:]\n",
    "# Print shapes\n",
    "print(\"X_train shape:\", X_train.shape)\n",
    "print(\"X_test shape:\", X_test.shape)\n",
    "print(\"y_train shape:\", y_train.shape)\n",
    "print(\"y_test shape:\", y_test.shape)"
   ]
  },
  {
   "cell_type": "code",
   "execution_count": 79,
   "id": "846fce27",
   "metadata": {},
   "outputs": [
    {
     "name": "stdout",
     "output_type": "stream",
     "text": [
      "Training set size: 946\n",
      "Test set size: 237\n",
      "Date range - Train: 2022-06-10 to 2025-01-30\n",
      "Date range - Test: 2025-01-31 to 2025-10-19\n"
     ]
    }
   ],
   "source": [
    "print(f\"Training set size: {len(y_train)}\")\n",
    "print(f\"Test set size: {len(y_test)}\")\n",
    "print(f\"Date range - Train: {df.index[0]} to {df.index[train_size-1]}\")\n",
    "print(f\"Date range - Test: {df.index[train_size]} to {df.index[-1]}\")\n"
   ]
  },
  {
   "cell_type": "markdown",
   "id": "d4c015a6",
   "metadata": {},
   "source": [
    "### MODEL TRAINING"
   ]
  },
  {
   "cell_type": "code",
   "execution_count": 81,
   "id": "52080895",
   "metadata": {},
   "outputs": [],
   "source": [
    "# Define SARIMAX parameters\n",
    "order = (1, 1, 1)  # (p, d, q)\n",
    "seasonal_order = (1, 1, 1, 24)  # (P, D, Q, s)\n",
    "\n",
    "# Train SARIMAX model\n",
    "model = SARIMAX(\n",
    "    endog=y_train,\n",
    "    exog=X_train,\n",
    "    order=order,\n",
    "    seasonal_order=seasonal_order,\n",
    "    enforce_stationarity=False,\n",
    "    enforce_invertibility=False\n",
    ")\n",
    "\n",
    "\n",
    "# Fit the model\n",
    "results = model.fit(disp=False, maxiter=200)\n"
   ]
  },
  {
   "cell_type": "code",
   "execution_count": 82,
   "id": "a3f91c5b",
   "metadata": {},
   "outputs": [
    {
     "name": "stdout",
     "output_type": "stream",
     "text": [
      "\n",
      "Model trained successfully!\n",
      "\n",
      "                                     SARIMAX Results                                      \n",
      "==========================================================================================\n",
      "Dep. Variable:                    Complaint_Count   No. Observations:                  946\n",
      "Model:             SARIMAX(1, 1, 1)x(1, 1, 1, 24)   Log Likelihood               -3296.430\n",
      "Date:                            Wed, 29 Oct 2025   AIC                           6616.860\n",
      "Time:                                    21:05:58   BIC                           6674.422\n",
      "Sample:                                         0   HQIC                          6638.855\n",
      "                                            - 946                                         \n",
      "Covariance Type:                              opg                                         \n",
      "==========================================================================================\n"
     ]
    }
   ],
   "source": [
    "print(\"\\nModel trained successfully!\")\n",
    "print(\"\\n\" + results.summary().tables[0].as_text())"
   ]
  },
  {
   "cell_type": "code",
   "execution_count": 83,
   "id": "7761c947",
   "metadata": {},
   "outputs": [],
   "source": [
    "# MODEL EVALUATION ON TEST SET\n",
    "\n",
    "# Make predictions on test set\n",
    "y_pred_test = results.forecast(steps=len(y_test), exog=X_test)\n"
   ]
  },
  {
   "cell_type": "code",
   "execution_count": null,
   "id": "1af1d6a0",
   "metadata": {},
   "outputs": [],
   "source": []
  },
  {
   "cell_type": "code",
   "execution_count": null,
   "id": "9abee43b",
   "metadata": {},
   "outputs": [],
   "source": []
  },
  {
   "cell_type": "code",
   "execution_count": null,
   "id": "0937f351",
   "metadata": {},
   "outputs": [],
   "source": []
  },
  {
   "cell_type": "code",
   "execution_count": null,
   "id": "6bf53aa8",
   "metadata": {},
   "outputs": [],
   "source": []
  },
  {
   "cell_type": "code",
   "execution_count": null,
   "id": "94f477b3",
   "metadata": {},
   "outputs": [],
   "source": []
  },
  {
   "cell_type": "code",
   "execution_count": null,
   "id": "c38fbb3a",
   "metadata": {},
   "outputs": [],
   "source": []
  },
  {
   "cell_type": "code",
   "execution_count": null,
   "id": "37a6fab6",
   "metadata": {},
   "outputs": [],
   "source": []
  },
  {
   "cell_type": "code",
   "execution_count": null,
   "id": "aa3ec12a",
   "metadata": {},
   "outputs": [],
   "source": []
  },
  {
   "cell_type": "code",
   "execution_count": null,
   "id": "ff716dc3",
   "metadata": {},
   "outputs": [],
   "source": []
  },
  {
   "cell_type": "code",
   "execution_count": null,
   "id": "3184f4e8",
   "metadata": {},
   "outputs": [],
   "source": []
  },
  {
   "cell_type": "code",
   "execution_count": null,
   "id": "a6170ecb",
   "metadata": {},
   "outputs": [],
   "source": []
  },
  {
   "cell_type": "code",
   "execution_count": null,
   "id": "d753c51a",
   "metadata": {},
   "outputs": [],
   "source": []
  },
  {
   "cell_type": "code",
   "execution_count": null,
   "id": "0f024155",
   "metadata": {},
   "outputs": [],
   "source": []
  },
  {
   "cell_type": "code",
   "execution_count": null,
   "id": "680eef21",
   "metadata": {},
   "outputs": [],
   "source": []
  }
 ],
 "metadata": {
  "kernelspec": {
   "display_name": "myenv",
   "language": "python",
   "name": "python3"
  },
  "language_info": {
   "codemirror_mode": {
    "name": "ipython",
    "version": 3
   },
   "file_extension": ".py",
   "mimetype": "text/x-python",
   "name": "python",
   "nbconvert_exporter": "python",
   "pygments_lexer": "ipython3",
   "version": "3.10.18"
  }
 },
 "nbformat": 4,
 "nbformat_minor": 5
}
